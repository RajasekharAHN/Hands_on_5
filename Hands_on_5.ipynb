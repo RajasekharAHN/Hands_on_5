{
  "nbformat": 4,
  "nbformat_minor": 0,
  "metadata": {
    "colab": {
      "provenance": []
    },
    "kernelspec": {
      "name": "python3",
      "display_name": "Python 3"
    },
    "language_info": {
      "name": "python"
    }
  },
  "cells": [
    {
      "cell_type": "code",
      "execution_count": 9,
      "metadata": {
        "colab": {
          "base_uri": "https://localhost:8080/"
        },
        "id": "91X61K5zTVjX",
        "outputId": "8de552fe-a11e-430e-ea63-fe01d54d3082"
      },
      "outputs": [
        {
          "output_type": "stream",
          "name": "stdout",
          "text": [
            "Enter a list of integers: 3 1 7 4 9 6 8\n",
            "Root node removed: 1\n",
            "Heap after removal: [3, 4, 6, 8, 9, 7]\n"
          ]
        }
      ],
      "source": [
        "class MinHeap:\n",
        "    def __init__(self):\n",
        "        self.heap = []\n",
        "\n",
        "    def build_min_heap(self, array):\n",
        "        self.heap = array\n",
        "        n = len(self.heap)\n",
        "        for i in range(n // 2, -1, -1):\n",
        "            self.heapify(i)\n",
        "\n",
        "    def heapify(self, i):\n",
        "        left_child = 2 * i + 1\n",
        "        right_child = 2 * i + 2\n",
        "        smallest = i\n",
        "        if left_child < len(self.heap) and self.heap[left_child] < self.heap[smallest]:\n",
        "            smallest = left_child\n",
        "        if right_child < len(self.heap) and self.heap[right_child] < self.heap[smallest]:\n",
        "            smallest = right_child\n",
        "        if smallest != i:\n",
        "            self.heap[i], self.heap[smallest] = self.heap[smallest], self.heap[i]\n",
        "            self.heapify(smallest)\n",
        "\n",
        "    def pop(self):\n",
        "        if not self.heap:\n",
        "            return None\n",
        "        root = self.heap[0]\n",
        "        self.heap[0] = self.heap[-1]\n",
        "        self.heap.pop()\n",
        "        self.heapify(0)\n",
        "        return root\n",
        "\n",
        "if __name__ == \"__main__\":\n",
        "    min_heap = MinHeap()\n",
        "\n",
        "    arr = list(map(int, input(\"Enter a list of integers: \").split()))\n",
        "\n",
        "    min_heap.build_min_heap(arr)\n",
        "\n",
        "    print(\"Root node removed:\", min_heap.pop())\n",
        "    print(\"Heap after removal:\", min_heap.heap)\n"
      ]
    },
    {
      "cell_type": "code",
      "source": [],
      "metadata": {
        "id": "zOIzYbI5-4jL"
      },
      "execution_count": null,
      "outputs": []
    }
  ]
}